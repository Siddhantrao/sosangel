{
 "cells": [
  {
   "cell_type": "code",
   "execution_count": 1,
   "metadata": {},
   "outputs": [
    {
     "name": "stdout",
     "output_type": "stream",
     "text": [
      "Paging Statistics\n",
      "['pgpgin/s', 'pgpgout/s', 'fault/s', 'majflt/s', 'pgfree/s', 'pgscank/s', 'pgscand/s', 'pgsteal/s', '%vmeff']\n",
      "I/O And Transfer Rate Statistics\n",
      "['tps', 'rtps', 'wtps', 'bread/s', 'bwrtn/s']\n",
      "Block Device\n",
      "['tps', 'rkB/s', 'wkB/s', 'areq-sz', 'aqu-sz', 'await', 'svctm', '%util', 'MBfsfree', 'MBfsused', '%fsused', '%ufsused', 'Ifree', 'Iused', '%Iused']\n",
      "Hugepages Utilization\n",
      "['kbhugfree', 'kbhugused', '%hugused', 'MHz']\n",
      "Fans Speed\n",
      "['rpm', 'drpm', 'DEVICE', 'wghMHz']\n",
      "Voltage Inputs\n",
      "['inV', '%in', 'DEVICE', 'degC', '%temp', 'DEVICE', 'BUS', 'idvendor', 'idprod', 'maxpower', 'manufact', 'product', 'IFACE', 'rxpck/s', 'txpck/s', 'rxkB/s', 'txkB/s', 'rxcmp/s', 'txcmp/s', 'rxmcst/s', '%ifutil', 'IFACE', 'rxerr/s', 'txerr/s', 'coll/s', 'rxdrop/s', 'txdrop/s', 'txcarr/s', 'rxfram/s', 'rxfifo/s', 'txfifo/s']\n",
      "Fibre Channel Traffic\n",
      "['FCHOST', 'fch_rxf/s', 'fch_txf/s', 'fch_rxw/s', 'fch_txw/s', 'imsg/s', 'omsg/s', 'iech/s', 'iechr/s', 'oech/s', 'oechr/s', 'itm/s', 'itmr/s', 'otm/s', 'otmr/s', 'iadrmk/s', 'iadrmkr/s', 'oadrmk/s', 'oadrmkr/s', 'ierr/s', 'oerr/s', 'idstunr/s', 'odstunr/s', 'itmex/s', 'otmex/s', 'iparmpb/s', 'oparmpb/s', 'isrcq/s', 'osrcq/s', 'iredir/s', 'oredir/s', 'imsg6/s', 'omsg6/s', 'iech6/s', 'iechr6/s', 'oechr6/s', 'igmbq6/s', 'igmbr6/s', 'ogmbr6/s', 'igmbrd6/s', 'ogmbrd6/s', 'irtsol6/s', 'ortsol6/s', 'irtad6/s', 'inbsol6/s', 'onbsol6/s', 'inbad6/s', 'onbad6/s', 'ierr6/s', 'idtunr6/s', 'odtunr6/s', 'itmex6/s', 'otmex6/s', 'iprmpb6/s', 'oprmpb6/s', 'iredir6/s', 'oredir6/s', 'ipck2b6/s', 'opck2b6/s', 'irec/s', 'fwddgm/s', 'idel/s', 'orq/s', 'asmrq/s', 'asmok/s', 'fragok/s', 'fragcrt/s', 'ihdrerr/s', 'iadrerr/s', 'iukwnpr/s', 'idisc/s', 'odisc/s', 'onort/s', 'asmf/s', 'fragf/s', 'irec6/s', 'fwddgm6/s', 'idel6/s', 'orq6/s', 'asmrq6/s', 'asmok6/s', 'imcpck6/s', 'omcpck6/s', 'fragok6/s', 'fragcr6/s', 'ihdrer6/s', 'iadrer6/s', 'iukwnp6/s', 'i2big6/s', 'idisc6/s', 'odisc6/s', 'inort6/s', 'onort6/s', 'asmf6/s', 'fragf6/s', 'itrpck6/s']\n",
      "Nfs Client Activity\n",
      "['call/s', 'retrans/s', 'read/s', 'write/s', 'access/s', 'getatt/s']\n",
      "Nfs Server Activity\n",
      "['scall/s', 'badcall/s', 'packet/s', 'udp/s', 'tcp/s', 'hit/s', 'miss/s', 'sread/s', 'swrite/s', 'saccess/s', 'sgetatt/s']\n",
      "Sockets In Use (Ipv4)\n",
      "['totsck', 'tcpsck', 'udpsck', 'rawsck', 'ip-frag', 'tcp-tw']\n",
      "Sockets (Ipv6)\n",
      "['tcp6sck', 'udp6sck', 'raw6sck', 'ip6-frag']\n",
      "Software-Based Network Processing\n",
      "['total/s', 'dropd/s', 'squeezd/s', 'rx_rps/s', 'flw_lim/s']\n",
      "Tcpv4 Network Traffic\n",
      "['active/s', 'passive/s', 'iseg/s', 'oseg/s']\n",
      "Tcpv4 Network Errors\n",
      "['atmptf/s', 'estres/s', 'retrans/s', 'isegerr/s', 'orsts/s']\n",
      "Udpv4 Network Traffic\n",
      "['idgm/s', 'odgm/s', 'noport/s', 'idgmerr/s']\n",
      "Udpv6 Network Traffic\n",
      "['idgm6/s', 'odgm6/s', 'noport6/s', 'idgmer6/s']\n",
      "Runq-Sz\n",
      "['plist-sz', 'ldavg-1', 'ldavg-5', 'ldavg-15', 'blocked']\n",
      "Number Of Tasks Currently Blocked, Waiting For I/O To Complete.\n",
      "['kbmemfree', 'kbavail', 'kbmemused', '%memused', 'kbbuffers', 'kbcached', 'kbcommit', '%commit', 'kbactive', 'kbinact', 'kbdirty', 'kbanonpg', 'kbslab', 'kbkstack', 'kbpgtbl', 'kbvmused']\n",
      "Swap Space Utilization\n",
      "['kbswpfree', 'kbswpused', '%swpused', 'kbswpcad', '%swpcad']\n",
      "Percentage Of Cached Swap Memory In Relation To The Amount Of Used Swap Space.\n",
      "['%user', '%usr', '%nice', '%system', '%sys', '%iowait', '%steal', '%irq', '%soft', '%guest', '%gnice', '%idle']\n",
      "Inode, File And Other Kernel Tables\n",
      "['dentunusd', 'file-nr', 'inode-nr', 'pty-nr']\n",
      "Swapping\n",
      "['pswpin/s', 'pswpout/s']\n",
      "Task Creation And System Switching Activity.\n",
      "['proc/s', 'cswch/s']\n",
      "Tty Devices Activity\n",
      "['rcvin/s', 'xmtin/s', 'framerr/s', 'prtyerr/s', 'brk/s', 'ovrun/s']\n"
     ]
    }
   ],
   "source": [
    "f = open(\"sar.txt\")\n",
    "br = 0\n",
    "readStat = []\n",
    "allread = []\n",
    "statInfo = \"\"\n",
    "for line in f.readlines():\n",
    "    line = line.strip().split(\" \")\n",
    "    if len(line[0]) == 0:\n",
    "        br = 1\n",
    "    else:\n",
    "        br = 0\n",
    "        \n",
    "    if br == 1:\n",
    "        allread.append(readStat)\n",
    "        readStat = []\n",
    "        br = 0\n",
    "    else:\n",
    "        readStat.append(\" \".join(line))\n",
    "        \n",
    "mainDict = {}        \n",
    "for l in allread:\n",
    "    if len(l) != 0:\n",
    "        mainDict[l[0]] = l[1:]\n",
    "        \n",
    "for key in mainDict.keys():\n",
    "    print(key.title())\n",
    "    print(mainDict[key])"
   ]
  }
 ],
 "metadata": {
  "kernelspec": {
   "display_name": "Python 3",
   "language": "python",
   "name": "python3"
  },
  "language_info": {
   "codemirror_mode": {
    "name": "ipython",
    "version": 3
   },
   "file_extension": ".py",
   "mimetype": "text/x-python",
   "name": "python",
   "nbconvert_exporter": "python",
   "pygments_lexer": "ipython3",
   "version": "3.6.2"
  }
 },
 "nbformat": 4,
 "nbformat_minor": 2
}
